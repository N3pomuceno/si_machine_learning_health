{
 "cells": [
  {
   "cell_type": "markdown",
   "id": "89787b0b",
   "metadata": {},
   "source": [
    "# Atividade 2: Regressão Linear\n",
    "\n",
    "Essa atividade consiste na utilização de alguns datasets relacionados com um banco de dados que vamos ver a correlação entre duas variáveis. Elas serão a pressão sanguínea e o Índice de Massa corpórea. Para isso vamos ter que fazer a fusão de 3 datasets, e assim fazer a análise sobre os dados"
   ]
  },
  {
   "cell_type": "markdown",
   "id": "d0bb0a58",
   "metadata": {},
   "source": [
    "Antes de começar, vamos importar as bibliotecas que serão necessárias na produção dessa atividade:"
   ]
  },
  {
   "cell_type": "code",
   "execution_count": 1,
   "id": "9bff8232",
   "metadata": {},
   "outputs": [],
   "source": [
    "import pandas as pd\n",
    "import numpy as np\n",
    "import seaborn as sns"
   ]
  },
  {
   "cell_type": "markdown",
   "id": "39279337",
   "metadata": {},
   "source": [
    "Pegando os arquivos:"
   ]
  },
  {
   "cell_type": "code",
   "execution_count": null,
   "id": "174f1297",
   "metadata": {},
   "outputs": [],
   "source": []
  }
 ],
 "metadata": {
  "kernelspec": {
   "display_name": "Python 3 (ipykernel)",
   "language": "python",
   "name": "python3"
  },
  "language_info": {
   "codemirror_mode": {
    "name": "ipython",
    "version": 3
   },
   "file_extension": ".py",
   "mimetype": "text/x-python",
   "name": "python",
   "nbconvert_exporter": "python",
   "pygments_lexer": "ipython3",
   "version": "3.8.10"
  }
 },
 "nbformat": 4,
 "nbformat_minor": 5
}
