{
 "cells": [
  {
   "cell_type": "markdown",
   "id": "47338cba",
   "metadata": {},
   "source": [
    "# Atividade 6:"
   ]
  },
  {
   "cell_type": "code",
   "execution_count": null,
   "id": "e1f059c7",
   "metadata": {},
   "outputs": [],
   "source": []
  }
 ],
 "metadata": {
  "kernelspec": {
   "display_name": "Env_SI_ml_na_saude",
   "language": "python",
   "name": "env_si_ml_na_saude"
  },
  "language_info": {
   "codemirror_mode": {
    "name": "ipython",
    "version": 3
   },
   "file_extension": ".py",
   "mimetype": "text/x-python",
   "name": "python",
   "nbconvert_exporter": "python",
   "pygments_lexer": "ipython3",
   "version": "3.8.10"
  }
 },
 "nbformat": 4,
 "nbformat_minor": 5
}
