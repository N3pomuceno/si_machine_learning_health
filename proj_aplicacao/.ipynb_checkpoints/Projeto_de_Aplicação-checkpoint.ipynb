{
 "cells": [
  {
   "cell_type": "markdown",
   "id": "273c7377",
   "metadata": {},
   "source": [
    "# Projeto de Aplicação \n",
    "\n",
    "Esse projeto tem o objetivo de trabalhar em cima do artigo que apresentamos em aula, que envolve a previsão de declínio cognitivo em cima de pacientes da base do ELSA, English Longitudinal Study of Ageing. O artigo se encontra no seguinte [link](https://pubmed.ncbi.nlm.nih.gov/36867596/).\n",
    "\n",
    "\n",
    "De forma resumida o objetivo do artigo era predizer mudanças cognitivas através de 12 anos entre adultos mais velhos e identificar os preditores mais significativos para essas mudanças usando modelos de Machine Learning.\n",
    "\n",
    "A quantidade de participantes foram 2733 entre 50 e 85 anos do ELSA, definiram duas categorias de mudança cognitiva, maior (372 pacientes, 13,6%) e menor (2361, 86,4%) da Wave 2 até Wave 8.\n",
    "\n",
    "\n",
    "**Maiores detalhes:**\n",
    "43 Baseline Features de 7 domínios:\n",
    "1. Sóciodemográfico\n",
    "2. Engajamento Social\n",
    "3. Funcionamento físico\n",
    "4. Psicológico\n",
    "5. Comportamento Saudáveis\n",
    "6. Saúde\n",
    "7. Testes Cognitivos\n",
    "\n",
    "**Resultados**: Prevendo futuro maior declínio cognitivo daqueles com menor declínio cognitivo, com desempenho relativamente alto. Modelo XGBoost com AUC: 72,84%; Sensibilidade: 78,23%; Especificidade: 67,41%.\n",
    "\n",
    "**Conclusão**: O estudo indica a possibilidade de identificar indivíduos com maior risco de ter maior declínio cognitivo além de potenciais fatores de risco/proteção de declínio cognitivo entre os adultos mais velhos. O conhecimento adquirido pode auxiliar em intervenções mais efetivas no atraso do declínio cognitivo na população mais velha, promovendo envelhecimento saudável.\n",
    "\n",
    "---\n",
    "\n",
    "**Nossa oportunidade em cima disso**: Optaremos para transformar a classificação binária feito pelo artigo em duas classificações binárias para adicionar uma terceira classicificação! Ao invés de fazer uma classificação multiclasse que pode perder maior eficiência tentaremos uma outra abordagem que tente melhorar a qualidade da classificação.\n",
    "\n",
    "\n",
    "### Roteiro:\n"
   ]
  },
  {
   "cell_type": "code",
   "execution_count": null,
   "id": "4e207f2e",
   "metadata": {},
   "outputs": [],
   "source": [
    "#bibliotecas"
   ]
  },
  {
   "cell_type": "code",
   "execution_count": null,
   "id": "f99af345",
   "metadata": {},
   "outputs": [],
   "source": [
    "#importação dos dados"
   ]
  }
 ],
 "metadata": {
  "kernelspec": {
   "display_name": "Env_SI_ml_na_saude",
   "language": "python",
   "name": "env_si_ml_na_saude"
  },
  "language_info": {
   "codemirror_mode": {
    "name": "ipython",
    "version": 3
   },
   "file_extension": ".py",
   "mimetype": "text/x-python",
   "name": "python",
   "nbconvert_exporter": "python",
   "pygments_lexer": "ipython3",
   "version": "3.8.10"
  }
 },
 "nbformat": 4,
 "nbformat_minor": 5
}
